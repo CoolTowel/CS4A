{
 "cells": [
  {
   "cell_type": "markdown",
   "metadata": {},
   "source": [
    "# Final project\n",
    "\n",
    "\n",
    "To complete the course you are required to present a little project.\n",
    "\n",
    "This consists of a stand-alone program in Python in the form of a\n",
    "graphycal interface using the wxpython widgets library.\n",
    "The program and its auxiliary modules will be packaged and saved on a \n",
    "remote git repository. A anaconda package will be created and saved on\n",
    "anaconda repository.\n",
    "\n",
    "You are also encouraged to present your code and explain how it works.\n",
    "\n",
    "The evaluation of the project will take into consideration the following points:\n",
    "\n",
    "0. **Package functionality**\n",
    "    * The code can be installed from anaconda repository and it able to start\n",
    "    with minimal functionality (i.e. the GUI starts and at least a task works).\n",
    "    * 40%\n",
    "\n",
    "1. **Originality**\n",
    "    * Starting from examples in the class notes, you are expected to put into a code\n",
    "       an idea combining different elements in an original way.\n",
    "    * 10% of total note\n",
    "\n",
    "2. **Complexity**\n",
    "    * Structure of the GUI.\n",
    "    * Number and quality of tasks defined.\n",
    "    * 10% of total note\n",
    "\n",
    "3. **Robustness**\n",
    "    * The code should be ideally free of bugs and every single task should work.\n",
    "    * 10% of total note\n",
    "\n",
    "3. **Style**\n",
    "    * Evaluation of how the code is written. \n",
    "      There are too many repeated parts ? Are functions used when possible to make it\n",
    "      more readable ? Is the code well organized ?\n",
    "    * 10% of total note\n",
    "\n",
    "4. **Documentation**\n",
    "    * Comments should appear in strategic parts of the code, such as definition of \n",
    "    classes and functions and where ever some intricate operation is performed\n",
    "    * 10% of total note \n",
    "\n",
    "5. **Presentation**\n",
    "    * Accurate description of the code should accompaign the package in the git repository in form of a Readme file.\n",
    "    * Oral presentation of the code describing the objective of the code and how it works.\n",
    "    * 10% of total note\n"
   ]
  }
 ],
 "metadata": {
  "anaconda-cloud": {},
  "kernelspec": {
   "display_name": "Python [conda root]",
   "language": "python",
   "name": "conda-root-py"
  },
  "language_info": {
   "codemirror_mode": {
    "name": "ipython",
    "version": 2
   },
   "file_extension": ".py",
   "mimetype": "text/x-python",
   "name": "python",
   "nbconvert_exporter": "python",
   "pygments_lexer": "ipython2",
   "version": "2.7.12"
  }
 },
 "nbformat": 4,
 "nbformat_minor": 0
}
