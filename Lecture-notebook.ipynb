{
 "cells": [
  {
   "cell_type": "markdown",
   "metadata": {},
   "source": [
    "# How to use notebook"
   ]
  },
  {
   "cell_type": "markdown",
   "metadata": {},
   "source": [
    "Notebook is a wonderful environment to write your research notes.\n",
    "You can merge comments and code in a single document, pass this to\n",
    "your colleagues and let them check what you did.\n",
    "\n",
    "Starting is super easy. It comes with the anaconda distribution.\n",
    "So just start with:\n",
    "\n",
    "jupiter notebook\n",
    "\n",
    "It will open the browser you chose as default and you will be able to\n",
    "open an existent notebook (files ending in \\*.ipynb  as ipython notebook)\n",
    "or create a new one by opening the menu File -> New Notebook."
   ]
  },
  {
   "cell_type": "markdown",
   "metadata": {},
   "source": [
    "## Writing in a cell\n",
    "\n",
    "A cell can be either text or code.\n",
    "As a default it starts as code. \n",
    "\n",
    "You can change it into text (markdown) with ESC-m and back into code with Esc-c."
   ]
  },
  {
   "cell_type": "markdown",
   "metadata": {},
   "source": [
    "## Markdown cells\n",
    "\n",
    "You can define a header by adding a pound sign (#) or two (##) to obtain different\n",
    "sizes in boldface.\n",
    "\n",
    "### Headers\n",
    "\n",
    "\\# H1\n",
    "\n",
    "\\#\\# H2\n",
    "\n",
    "\\#\\#\\# H3\n",
    "\n",
    "\\#\\#\\#\\# H4\n",
    "\n",
    "\\#\\#\\#\\#\\# H5\n",
    "\n",
    "\\#\\#\\#\\#\\#\\# H6\n",
    "\n",
    "# H1\n",
    "## H2\n",
    "### H3\n",
    "#### H4\n",
    "##### H5\n",
    "###### H6\n",
    "\n",
    "### Emphasis\n",
    "\n",
    "Italic:  \\* asterisks \\*   or  \\_underscores\\_\n",
    "\n",
    "* asterisks * or _ underscores _\n",
    "\n",
    "Bold:  \\*\\* asterisks \\*\\*  or \\_\\_ underscores \\_\\_\n",
    "\n",
    "** asterisks ** or __ underscores __\n",
    "\n",
    "Combined:  \\*\\* asterisks and \\_\\_ underscores \\_\\_ \\*\\*\n",
    "\n",
    "** asterisks and __ underscores __**\n",
    "\n",
    "Strikethrough:  \\~\\~ scratch this \\~\\~\n",
    "\n",
    "~~ scratch this ~~\n",
    "\n",
    "\n",
    "Each of these symbols can be escaped using a backslash before it,\n",
    "such a \\\\#  or \\\\*.\n",
    "\n",
    "\n",
    "### Lists\n",
    "\n",
    "Let's learn with an example:\n",
    "\n",
    "\n",
    "1\\. First ordered list item\n",
    "\n",
    "2\\. Another item\n",
    "\n",
    "⋅⋅* Unordered sub-list. \n",
    "\n",
    "1\\. Actual numbers don't matter, just that it's a number\n",
    "\n",
    "⋅⋅1. Ordered sub-list\n",
    "\n",
    "4\\. And another item.\n",
    "\n",
    "⋅⋅⋅You can have properly indented paragraphs within list items. Notice the blank line above, and the leading spaces (at least one, but we'll use three here to also align the raw Markdown).\n",
    "\n",
    "⋅⋅⋅To have a line break without a paragraph, you will need to use two trailing spaces.⋅⋅\n",
    "⋅⋅⋅Note that this line is separate, but within the same paragraph.⋅⋅\n",
    "⋅⋅⋅(This is contrary to the typical GFM line break behaviour, where trailing spaces are not required.)\n",
    "\n",
    "\\* Unordered list can use asterisks\n",
    "\n",
    "\\- Or minuses\n",
    "\n",
    "\\+ Or pluses\n",
    "\n",
    "---\n",
    "\n",
    "This is the result:\n",
    "\n",
    "1. First ordered list item\n",
    "2. Another item\n",
    "⋅⋅* Unordered sub-list. \n",
    "1. Actual numbers don't matter, just that it's a number\n",
    "⋅⋅1. Ordered sub-list\n",
    "4. And another item.\n",
    "\n",
    "⋅⋅⋅You can have properly indented paragraphs within list items. Notice the blank line above, and the leading spaces (at least one, but we'll use three here to also align the raw Markdown).\n",
    "\n",
    "⋅⋅⋅To have a line break without a paragraph, you will need to use two trailing spaces.⋅⋅\n",
    "⋅⋅⋅Note that this line is separate, but within the same paragraph.⋅⋅\n",
    "⋅⋅⋅(This is contrary to the typical GFM line break behaviour, where trailing spaces are not required.)\n",
    "\n",
    "* Unordered list can use asterisks\n",
    "- Or minuses\n",
    "+ Or pluses\n",
    "\n",
    "\n",
    "### Mathematical formulae\n",
    "\n",
    "Mathematical formulae can be used by surrounding a typical Latex expression\n",
    "with \\$ ... \\$:\n",
    "\n",
    "$ \\int x^2 dx = x^3/3 $\n",
    "\n",
    "### URL\n",
    "\n",
    "You can add a link with \\[ linked name \\] (http://...)\n",
    "\n",
    "[ipython](http://ipython.org)\n",
    "\n",
    "or simply by writing the link inside angle brackets:\n",
    "\n",
    "<http://ipython.org>\n",
    "\n",
    "or simply with http at the beginning:\n",
    "\n",
    "http://ipython.org\n",
    "\n",
    "\n",
    "### Code highlighting\n",
    "\n",
    "You can write highlighted code surrounding it with  \\`\\`\\`python  ....  \\`\\`\\`\n",
    "\n",
    "```python\n",
    "print('hello world')\n",
    "```\n",
    "\n",
    "or the same with bash:\n",
    "\n",
    "```bash\n",
    "for i in (a b c);\n",
    "do\n",
    "echo $i\n",
    "done\n",
    "```\n",
    "\n",
    "### Inserting images\n",
    "\n",
    "You can insert images with:  \\!\\[alt\\](...)\n",
    "\n",
    "![alt](https://ipython.org/_static/IPy_header.png)\n",
    "\n",
    "To add an hovering title: \\!\\[alt text\\](... \"some text\"):\n",
    "\n",
    "![alt text](https://ipython.org/_static/IPy_header.png \"Example image\")\n",
    "\n",
    "### Tables\n",
    "\n",
    "Tables are created using pipes \"|\"\n",
    "\n",
    "Alignment inside the cells can be written using:\n",
    "- |:-   to align on the left\n",
    "- |-:   to align on the right\n",
    "- |:-:  to center\n",
    "\n",
    "For instance:\n",
    "\n",
    "\\|  Column 1 \\| Column 2 \\| Column 3 \\|\n",
    "\n",
    "\\|  :-   \\| :-:  \\|  :-  \\|\n",
    "\n",
    "\\| column \\| center \\| left \\|\n",
    "\n",
    "will give:\n",
    "\n",
    "|Column 1|Column 2|Column 3|\n",
    "|:-|:-:|-:|\n",
    "|column |center| left|\n"
   ]
  },
  {
   "cell_type": "markdown",
   "metadata": {},
   "source": [
    "## Typical shortcuts\n",
    "\n",
    "| Command | Definition |\n",
    "| :- | :-:|\n",
    "| **Esc m**      | change to markdown cell|\n",
    "| **Esc c**      |change to code cell|\n",
    "| **Shift Enter**| run cell|\n",
    "| **Ctrl Enter** | run cell in place|\n",
    "| **Alt Enter**  | run cell and open new cell|\n",
    "| **Esc Enter**   | go back to edit mode|\n",
    "| **Ctrl Shift -** | split a cell|\n",
    "| **Shift +** | merge the cell below|\n",
    "| **Esc dd**  |    delete the current cell|\n",
    "| **Esc a**   |  insert new cell above|\n",
    "| **Esc b**   |  insert new cell below|\n",
    "| **Enter**   | switch to edit mode|"
   ]
  },
  {
   "cell_type": "markdown",
   "metadata": {},
   "source": [
    "## Writing in a code cell\n",
    "\n",
    "First of all, we can use the esclamation mark to use shell commands."
   ]
  },
  {
   "cell_type": "code",
   "execution_count": 1,
   "metadata": {
    "collapsed": false
   },
   "outputs": [
    {
     "name": "stdout",
     "output_type": "stream",
     "text": [
      "/media/Data/workspace/Workshops/CompSkills4Astro\r\n"
     ]
    }
   ],
   "source": [
    "! pwd"
   ]
  },
  {
   "cell_type": "code",
   "execution_count": 2,
   "metadata": {
    "collapsed": false
   },
   "outputs": [
    {
     "data": {
      "text/plain": [
       "['foo.py', 'myfun.py', 'mymem.py']"
      ]
     },
     "execution_count": 2,
     "metadata": {},
     "output_type": "execute_result"
    }
   ],
   "source": [
    "names = !ls *.py\n",
    "names[:3]"
   ]
  },
  {
   "cell_type": "markdown",
   "metadata": {},
   "source": [
    "See the source of python functions/classes with question marks (? or ??)\n",
    "The information appears in a pop-up window"
   ]
  },
  {
   "cell_type": "code",
   "execution_count": 3,
   "metadata": {
    "collapsed": true
   },
   "outputs": [],
   "source": [
    "%pycat?"
   ]
  },
  {
   "cell_type": "markdown",
   "metadata": {},
   "source": [
    "** %load **\n",
    "\n",
    "Use %load http://matplotlib.org/mpl_examples/pylab_examples/contour_demo.py\n",
    "to load the content of a python script."
   ]
  },
  {
   "cell_type": "markdown",
   "metadata": {},
   "source": [
    "** %%writefile **\n",
    "\n",
    "Overwrite pythoncode.py"
   ]
  },
  {
   "cell_type": "code",
   "execution_count": 23,
   "metadata": {
    "collapsed": false
   },
   "outputs": [
    {
     "name": "stdout",
     "output_type": "stream",
     "text": [
      "Overwriting pythoncode.py\n"
     ]
    }
   ],
   "source": [
    "%%writefile pythoncode.py\n",
    "\n",
    "import numpy\n",
    "def append_if_not_exists(arr, x):\n",
    "    if x not in arr:\n",
    "        arr.append(x)\n",
    "        \n",
    "def some_useless_slow_function():\n",
    "    arr = list()\n",
    "    for i in range(10000):\n",
    "        x = numpy.random.randint(0, 10000)\n",
    "        append_if_not_exists(arr, x)"
   ]
  },
  {
   "cell_type": "markdown",
   "metadata": {},
   "source": [
    "** %run ** \n",
    "\n",
    "to run an external code or another notebook"
   ]
  },
  {
   "cell_type": "code",
   "execution_count": 27,
   "metadata": {
    "collapsed": true
   },
   "outputs": [],
   "source": [
    "%run ./foo.py"
   ]
  },
  {
   "cell_type": "markdown",
   "metadata": {},
   "source": [
    "** %load code **\n",
    "\n",
    "to load code directly into a cell"
   ]
  },
  {
   "cell_type": "markdown",
   "metadata": {},
   "source": [
    "### Notebook magics\n",
    "\n",
    "By running *%lsmagic* in a cell we get a list of all magic commands available."
   ]
  },
  {
   "cell_type": "code",
   "execution_count": 5,
   "metadata": {
    "collapsed": false
   },
   "outputs": [
    {
     "data": {
      "application/json": {
       "cell": {
        "!": "OSMagics",
        "HTML": "Other",
        "SVG": "Other",
        "bash": "Other",
        "capture": "ExecutionMagics",
        "debug": "ExecutionMagics",
        "file": "Other",
        "html": "DisplayMagics",
        "javascript": "DisplayMagics",
        "js": "DisplayMagics",
        "latex": "DisplayMagics",
        "perl": "Other",
        "prun": "ExecutionMagics",
        "pypy": "Other",
        "python": "Other",
        "python2": "Other",
        "python3": "Other",
        "ruby": "Other",
        "script": "ScriptMagics",
        "sh": "Other",
        "svg": "DisplayMagics",
        "sx": "OSMagics",
        "system": "OSMagics",
        "time": "ExecutionMagics",
        "timeit": "ExecutionMagics",
        "writefile": "OSMagics"
       },
       "line": {
        "alias": "OSMagics",
        "alias_magic": "BasicMagics",
        "autocall": "AutoMagics",
        "automagic": "AutoMagics",
        "autosave": "KernelMagics",
        "bookmark": "OSMagics",
        "cat": "Other",
        "cd": "OSMagics",
        "clear": "KernelMagics",
        "colors": "BasicMagics",
        "config": "ConfigMagics",
        "connect_info": "KernelMagics",
        "cp": "Other",
        "debug": "ExecutionMagics",
        "dhist": "OSMagics",
        "dirs": "OSMagics",
        "doctest_mode": "BasicMagics",
        "ed": "Other",
        "edit": "KernelMagics",
        "env": "OSMagics",
        "gui": "BasicMagics",
        "hist": "Other",
        "history": "HistoryMagics",
        "killbgscripts": "ScriptMagics",
        "ldir": "Other",
        "less": "KernelMagics",
        "lf": "Other",
        "lk": "Other",
        "ll": "Other",
        "load": "CodeMagics",
        "load_ext": "ExtensionMagics",
        "loadpy": "CodeMagics",
        "logoff": "LoggingMagics",
        "logon": "LoggingMagics",
        "logstart": "LoggingMagics",
        "logstate": "LoggingMagics",
        "logstop": "LoggingMagics",
        "ls": "Other",
        "lsmagic": "BasicMagics",
        "lx": "Other",
        "macro": "ExecutionMagics",
        "magic": "BasicMagics",
        "man": "KernelMagics",
        "matplotlib": "PylabMagics",
        "mkdir": "Other",
        "more": "KernelMagics",
        "mv": "Other",
        "notebook": "BasicMagics",
        "page": "BasicMagics",
        "pastebin": "CodeMagics",
        "pdb": "ExecutionMagics",
        "pdef": "NamespaceMagics",
        "pdoc": "NamespaceMagics",
        "pfile": "NamespaceMagics",
        "pinfo": "NamespaceMagics",
        "pinfo2": "NamespaceMagics",
        "popd": "OSMagics",
        "pprint": "BasicMagics",
        "precision": "BasicMagics",
        "profile": "BasicMagics",
        "prun": "ExecutionMagics",
        "psearch": "NamespaceMagics",
        "psource": "NamespaceMagics",
        "pushd": "OSMagics",
        "pwd": "OSMagics",
        "pycat": "OSMagics",
        "pylab": "PylabMagics",
        "qtconsole": "KernelMagics",
        "quickref": "BasicMagics",
        "recall": "HistoryMagics",
        "rehashx": "OSMagics",
        "reload_ext": "ExtensionMagics",
        "rep": "Other",
        "rerun": "HistoryMagics",
        "reset": "NamespaceMagics",
        "reset_selective": "NamespaceMagics",
        "rm": "Other",
        "rmdir": "Other",
        "run": "ExecutionMagics",
        "save": "CodeMagics",
        "sc": "OSMagics",
        "set_env": "OSMagics",
        "store": "StoreMagics",
        "sx": "OSMagics",
        "system": "OSMagics",
        "tb": "ExecutionMagics",
        "time": "ExecutionMagics",
        "timeit": "ExecutionMagics",
        "unalias": "OSMagics",
        "unload_ext": "ExtensionMagics",
        "who": "NamespaceMagics",
        "who_ls": "NamespaceMagics",
        "whos": "NamespaceMagics",
        "xdel": "NamespaceMagics",
        "xmode": "BasicMagics"
       }
      },
      "text/plain": [
       "Available line magics:\n",
       "%alias  %alias_magic  %autocall  %automagic  %autosave  %bookmark  %cat  %cd  %clear  %colors  %config  %connect_info  %cp  %debug  %dhist  %dirs  %doctest_mode  %ed  %edit  %env  %gui  %hist  %history  %killbgscripts  %ldir  %less  %lf  %lk  %ll  %load  %load_ext  %loadpy  %logoff  %logon  %logstart  %logstate  %logstop  %ls  %lsmagic  %lx  %macro  %magic  %man  %matplotlib  %mkdir  %more  %mv  %notebook  %page  %pastebin  %pdb  %pdef  %pdoc  %pfile  %pinfo  %pinfo2  %popd  %pprint  %precision  %profile  %prun  %psearch  %psource  %pushd  %pwd  %pycat  %pylab  %qtconsole  %quickref  %recall  %rehashx  %reload_ext  %rep  %rerun  %reset  %reset_selective  %rm  %rmdir  %run  %save  %sc  %set_env  %store  %sx  %system  %tb  %time  %timeit  %unalias  %unload_ext  %who  %who_ls  %whos  %xdel  %xmode\n",
       "\n",
       "Available cell magics:\n",
       "%%!  %%HTML  %%SVG  %%bash  %%capture  %%debug  %%file  %%html  %%javascript  %%js  %%latex  %%perl  %%prun  %%pypy  %%python  %%python2  %%python3  %%ruby  %%script  %%sh  %%svg  %%sx  %%system  %%time  %%timeit  %%writefile\n",
       "\n",
       "Automagic is ON, % prefix IS NOT needed for line magics."
      ]
     },
     "execution_count": 5,
     "metadata": {},
     "output_type": "execute_result"
    }
   ],
   "source": [
    "%lsmagic"
   ]
  },
  {
   "cell_type": "markdown",
   "metadata": {},
   "source": [
    "You absolutely need to know how to make appear plots in a page using:\n",
    "% matplolib inline"
   ]
  },
  {
   "cell_type": "code",
   "execution_count": 59,
   "metadata": {
    "collapsed": false
   },
   "outputs": [
    {
     "data": {
      "image/png": "[encoded data removed]",
      "text/plain": [
       "<matplotlib.figure.Figure at 0x7f37b320ccd0>"
      ]
     },
     "metadata": {},
     "output_type": "display_data"
    }
   ],
   "source": [
    "%matplotlib inline\n",
    "import  matplotlib.pyplot as plt\n",
    "import numpy as np\n",
    "# The semicolon at the end avoid to print the function\n",
    "plt.hist(np.linspace(0, 1, 1000)**1.5);"
   ]
  },
  {
   "cell_type": "markdown",
   "metadata": {},
   "source": [
    "%bash to run cell with bash"
   ]
  },
  {
   "cell_type": "code",
   "execution_count": 1,
   "metadata": {
    "collapsed": false
   },
   "outputs": [
    {
     "name": "stdout",
     "output_type": "stream",
     "text": [
      "a\n",
      "b\n",
      "c\n"
     ]
    }
   ],
   "source": [
    "%%bash\n",
    "for i in a b c;\n",
    "do\n",
    "echo $i\n",
    "done"
   ]
  },
  {
   "cell_type": "markdown",
   "metadata": {},
   "source": [
    "%%latex to render cell content in LaTeX"
   ]
  },
  {
   "cell_type": "code",
   "execution_count": 2,
   "metadata": {
    "collapsed": false
   },
   "outputs": [
    {
     "data": {
      "text/latex": [
       "\\begin{align}\n",
       "a = \\frac{1}{2} && b = \\frac{1}{3} && c = \\frac{1}{4}\\\\\n",
       "a && b && c \\\\\n",
       "1 && 2 && 3 \n",
       "\\end{align}"
      ],
      "text/plain": [
       "<IPython.core.display.Latex object>"
      ]
     },
     "metadata": {},
     "output_type": "display_data"
    }
   ],
   "source": [
    "%%latex\n",
    "\\begin{align}\n",
    "a = \\frac{1}{2} && b = \\frac{1}{3} && c = \\frac{1}{4}\\\\\n",
    "a && b && c \\\\\n",
    "1 && 2 && 3 \n",
    "\\end{align}"
   ]
  },
  {
   "cell_type": "markdown",
   "metadata": {},
   "source": [
    "## Collapsing windows\n",
    "\n",
    "After embedding big figures, it is possible to collapse or expand them by clicking on the left side of them.\n",
    "By clicking two times, the window collapses. By clicking one time, the window opens.\n",
    "\n",
    "![title](img/nb.png)"
   ]
  },
  {
   "cell_type": "markdown",
   "metadata": {},
   "source": [
    "### Using R from Python ...\n",
    "\n",
    "To use R from notebook, install rpy2:\n",
    "\n",
    "conda install -c r rpy2"
   ]
  },
  {
   "cell_type": "code",
   "execution_count": 2,
   "metadata": {
    "collapsed": false
   },
   "outputs": [],
   "source": [
    "%load_ext rpy2.ipython"
   ]
  },
  {
   "cell_type": "code",
   "execution_count": 5,
   "metadata": {
    "collapsed": false
   },
   "outputs": [
    {
     "data": {
      "text/plain": [
       "array([ 4.25])"
      ]
     },
     "execution_count": 5,
     "metadata": {},
     "output_type": "execute_result"
    }
   ],
   "source": [
    "# example of R ...\n",
    "%R X=c(1,4,5,7); sd(X); mean(X)"
   ]
  },
  {
   "cell_type": "markdown",
   "metadata": {},
   "source": [
    "Mixing Python and R"
   ]
  },
  {
   "cell_type": "code",
   "execution_count": 14,
   "metadata": {
    "collapsed": false
   },
   "outputs": [
    {
     "data": {
      "text/plain": [
       "\n",
       "Call:\n",
       "lm(formula = Y ~ X)\n",
       "\n",
       "Residuals:\n",
       "   1    2    3    4    5 \n",
       "-0.2  0.9 -1.0  0.1  0.2 \n",
       "\n",
       "Coefficients:\n",
       "            Estimate Std. Error t value Pr(>|t|)  \n",
       "(Intercept)   3.2000     0.6164   5.191   0.0139 *\n",
       "X             0.9000     0.2517   3.576   0.0374 *\n",
       "---\n",
       "Signif. codes:  0 ‘***’ 0.001 ‘**’ 0.01 ‘*’ 0.05 ‘.’ 0.1 ‘ ’ 1\n",
       "\n",
       "Residual standard error: 0.7958 on 3 degrees of freedom\n",
       "Multiple R-squared:   0.81,\tAdjusted R-squared:  0.7467 \n",
       "F-statistic: 12.79 on 1 and 3 DF,  p-value: 0.03739\n",
       "\n"
      ]
     },
     "metadata": {},
     "output_type": "display_data"
    },
    {
     "data": {
      "image/png": "[encoded data removed]"
     },
     "metadata": {},
     "output_type": "display_data"
    }
   ],
   "source": [
    "import numpy as np\n",
    "import pylab\n",
    "X = np.array([0,1,2,3,4])\n",
    "Y = np.array([3,5,4,6,7])\n",
    "\n",
    "# Push variables in rpy2\n",
    "%Rpush X Y\n",
    "v1 = %R plot(X,Y); print(summary(lm(Y~X))); vv=mean(X)*mean(Y)\n",
    "# Compute the fit with R and save coefficients in Python\n",
    "b = %R lm(Y~X)$coef\n",
    "\n",
    "# Or compute variables in rpy2 and then pull them from the rpy2 space\n",
    "#%R a=resid(lm(Y-X))\n",
    "#%Rpull a\n",
    "\n",
    "#print a, b"
   ]
  },
  {
   "cell_type": "markdown",
   "metadata": {},
   "source": [
    "- %R push X   is  equivalent to %R -i X\n",
    "- %R pull X   is  equivalent to %R -o X"
   ]
  },
  {
   "cell_type": "code",
   "execution_count": 20,
   "metadata": {
    "collapsed": false
   },
   "outputs": [
    {
     "name": "stdout",
     "output_type": "stream",
     "text": [
      "a [-0.2  0.9 -1.   0.1  0.2]\n",
      "b [-0.2  0.9 -1.   0.1  0.2]\n"
     ]
    }
   ],
   "source": [
    "b = %R a=resid(lm(Y~X))\n",
    "%Rpull a\n",
    "print \"a\", a\n",
    "print \"b\", b"
   ]
  },
  {
   "cell_type": "markdown",
   "metadata": {},
   "source": [
    "We can also directly write in R"
   ]
  },
  {
   "cell_type": "code",
   "execution_count": 15,
   "metadata": {
    "collapsed": false
   },
   "outputs": [
    {
     "data": {
      "text/plain": [
       "\n",
       "Call:\n",
       "lm(formula = Y ~ X)\n",
       "\n",
       "Residuals:\n",
       "   1    2    3    4    5 \n",
       "-0.2  0.9 -1.0  0.1  0.2 \n",
       "\n",
       "Coefficients:\n",
       "            Estimate Std. Error t value Pr(>|t|)  \n",
       "(Intercept)   3.2000     0.6164   5.191   0.0139 *\n",
       "X             0.9000     0.2517   3.576   0.0374 *\n",
       "---\n",
       "Signif. codes:  0 ‘***’ 0.001 ‘**’ 0.01 ‘*’ 0.05 ‘.’ 0.1 ‘ ’ 1\n",
       "\n",
       "Residual standard error: 0.7958 on 3 degrees of freedom\n",
       "Multiple R-squared:   0.81,\tAdjusted R-squared:  0.7467 \n",
       "F-statistic: 12.79 on 1 and 3 DF,  p-value: 0.03739\n",
       "\n"
      ]
     },
     "metadata": {},
     "output_type": "display_data"
    },
    {
     "data": {
      "image/png": "[encoded data removed]"
     },
     "metadata": {},
     "output_type": "display_data"
    }
   ],
   "source": [
    "%%R -i X,Y -o XYcoef\n",
    "XYlm = lm(Y~X)\n",
    "XYcoef = coef(XYlm)\n",
    "print(summary(XYlm))\n",
    "par(mfrow=c(2,2))\n",
    "plot(XYlm)"
   ]
  },
  {
   "cell_type": "markdown",
   "metadata": {},
   "source": [
    "## Timing and profiling\n",
    "\n",
    "Notebook has several functions that allow one to time their\n",
    "scripts and profile them."
   ]
  },
  {
   "cell_type": "markdown",
   "metadata": {},
   "source": [
    "**%time**  times a script"
   ]
  },
  {
   "cell_type": "code",
   "execution_count": 11,
   "metadata": {
    "collapsed": false
   },
   "outputs": [
    {
     "name": "stdout",
     "output_type": "stream",
     "text": [
      "CPU times: user 320 ms, sys: 0 ns, total: 320 ms\n",
      "Wall time: 317 ms\n"
     ]
    },
    {
     "data": {
      "text/plain": [
       "{1}"
      ]
     },
     "execution_count": 11,
     "metadata": {},
     "output_type": "execute_result"
    }
   ],
   "source": [
    "%time {1 for i in xrange(10*1000000)}"
   ]
  },
  {
   "cell_type": "markdown",
   "metadata": {},
   "source": [
    "**%%timeit** does several times the same operation and computes the average time"
   ]
  },
  {
   "cell_type": "code",
   "execution_count": 12,
   "metadata": {
    "collapsed": false
   },
   "outputs": [
    {
     "name": "stdout",
     "output_type": "stream",
     "text": [
      "1000 loops, best of 3: 254 µs per loop\n"
     ]
    }
   ],
   "source": [
    "%%timeit\n",
    "x = range(10000)\n",
    "max(x)"
   ]
  },
  {
   "cell_type": "markdown",
   "metadata": {},
   "source": [
    "To limit the number of repetitions use \"-n number\""
   ]
  },
  {
   "cell_type": "code",
   "execution_count": 13,
   "metadata": {
    "collapsed": false
   },
   "outputs": [
    {
     "name": "stdout",
     "output_type": "stream",
     "text": [
      "100 loops, best of 3: 315 µs per loop\n"
     ]
    }
   ],
   "source": [
    "%%timeit -n 100\n",
    "x = range(10000)\n",
    "max(x)"
   ]
  },
  {
   "cell_type": "markdown",
   "metadata": {},
   "source": [
    "To run profilers (processing and memory) you have to install further\n",
    "packages:\n",
    "\n",
    "conda install line_profiler\n",
    "\n",
    "conda install memory_profiler\n",
    "\n",
    "**%prun ** profiles a script by checking how much time each functions takes to run"
   ]
  },
  {
   "cell_type": "code",
   "execution_count": 30,
   "metadata": {
    "collapsed": false
   },
   "outputs": [
    {
     "name": "stdout",
     "output_type": "stream",
     "text": [
      " "
     ]
    }
   ],
   "source": [
    "from numpy.random import randn\n",
    "def add_and_sum(x, y):\n",
    "    added = x + y\n",
    "    summed = added.sum(axis=1)\n",
    "    return summed\n",
    "\n",
    "x = randn(3000, 3000)\n",
    "y = randn(3000, 3000)\n",
    "\n",
    "%prun add_and_sum(x, y)"
   ]
  },
  {
   "cell_type": "code",
   "execution_count": 34,
   "metadata": {
    "collapsed": false
   },
   "outputs": [
    {
     "name": "stdout",
     "output_type": "stream",
     "text": [
      "         2 function calls in 0.000 seconds\r\n",
      "\r\n",
      "   Ordered by: standard name\r\n",
      "\r\n",
      "   ncalls  tottime  percall  cumtime  percall filename:lineno(function)\r\n",
      "        1    0.000    0.000    0.000    0.000 foo.py:1(<module>)\r\n",
      "        1    0.000    0.000    0.000    0.000 {method 'disable' of '_lsprof.Profiler' objects}\r\n",
      "\r\n",
      "\r\n"
     ]
    }
   ],
   "source": [
    "!python -m cProfile foo.py"
   ]
  },
  {
   "cell_type": "code",
   "execution_count": 36,
   "metadata": {
    "collapsed": true
   },
   "outputs": [],
   "source": [
    "!python -m cProfile -o foo.out foo.py"
   ]
  },
  {
   "cell_type": "code",
   "execution_count": 37,
   "metadata": {
    "collapsed": false
   },
   "outputs": [
    {
     "name": "stdout",
     "output_type": "stream",
     "text": [
      "Wed Oct  5 11:16:10 2016    foo.out\n",
      "\n",
      "         2 function calls in 0.000 seconds\n",
      "\n",
      "   Random listing order was used\n",
      "\n",
      "   ncalls  tottime  percall  cumtime  percall filename:lineno(function)\n",
      "        1    0.000    0.000    0.000    0.000 {method 'disable' of '_lsprof.Profiler' objects}\n",
      "        1    0.000    0.000    0.000    0.000 foo.py:1(<module>)\n",
      "\n",
      "\n"
     ]
    },
    {
     "data": {
      "text/plain": [
       "<pstats.Stats instance at 0x7f37d004e7a0>"
      ]
     },
     "execution_count": 37,
     "metadata": {},
     "output_type": "execute_result"
    }
   ],
   "source": [
    "import pstats\n",
    "stats = pstats.Stats('foo.out')\n",
    "stats.print_stats()"
   ]
  },
  {
   "cell_type": "markdown",
   "metadata": {},
   "source": [
    "**%memit** Profiling the memory usage"
   ]
  },
  {
   "cell_type": "code",
   "execution_count": 41,
   "metadata": {
    "collapsed": false
   },
   "outputs": [
    {
     "name": "stdout",
     "output_type": "stream",
     "text": [
      "peak memory: 227.16 MiB, increment: 30.64 MiB\n",
      "peak memory: 242.28 MiB, increment: 45.27 MiB\n"
     ]
    }
   ],
   "source": [
    "%load_ext memory_profiler\n",
    "%memit range(1000000)\n",
    "%memit list(range(1000000))"
   ]
  },
  {
   "cell_type": "markdown",
   "metadata": {},
   "source": [
    "** %mprun ** for profiling a code (testmem in the code mymem.py)"
   ]
  },
  {
   "cell_type": "code",
   "execution_count": 53,
   "metadata": {
    "collapsed": false
   },
   "outputs": [
    {
     "name": "stdout",
     "output_type": "stream",
     "text": [
      "ERROR: Could not find file <ipython-input-53-40403981ae5f>\n",
      "NOTE: %mprun can only be used on functions defined in physical files, and not in the IPython environment.\n",
      "('',)\n"
     ]
    }
   ],
   "source": [
    "import numpy as np\n",
    "\n",
    "def testmem():\n",
    "    a = np.arange(1000000)\n",
    "    b = list(range(1000000))\n",
    "    del(a)\n",
    "    del(b)\n",
    "    \n",
    "%mprun -f testmem testmem()"
   ]
  },
  {
   "cell_type": "markdown",
   "metadata": {},
   "source": [
    "This works only on an external file.\n",
    "Results appear in another window.\n",
    "So, first let's write a code externally and then profile it."
   ]
  },
  {
   "cell_type": "code",
   "execution_count": 64,
   "metadata": {
    "collapsed": false
   },
   "outputs": [
    {
     "name": "stdout",
     "output_type": "stream",
     "text": [
      "Overwriting mymem.py\n"
     ]
    }
   ],
   "source": [
    "%%writefile mymem.py\n",
    "#mymem.py\n",
    "import numpy as np\n",
    "\n",
    "def testmem():\n",
    "    a = np.arange(1000000)\n",
    "    b = list(range(1000000))\n",
    "    del(a)\n",
    "    del(b)\n",
    "\n",
    "testmem()"
   ]
  },
  {
   "cell_type": "code",
   "execution_count": 65,
   "metadata": {
    "collapsed": false
   },
   "outputs": [
    {
     "name": "stdout",
     "output_type": "stream",
     "text": [
      "('',)\n"
     ]
    }
   ],
   "source": [
    "from mymem import testmem\n",
    "%mprun -f testmem testmem()"
   ]
  },
  {
   "cell_type": "code",
   "execution_count": 67,
   "metadata": {
    "collapsed": false
   },
   "outputs": [],
   "source": [
    "from pythoncode import some_useless_slow_function, append_if_not_exists"
   ]
  },
  {
   "cell_type": "code",
   "execution_count": 68,
   "metadata": {
    "collapsed": false
   },
   "outputs": [
    {
     "name": "stdout",
     "output_type": "stream",
     "text": [
      " "
     ]
    }
   ],
   "source": [
    "%prun some_useless_slow_function()"
   ]
  },
  {
   "cell_type": "code",
   "execution_count": 69,
   "metadata": {
    "collapsed": false
   },
   "outputs": [
    {
     "name": "stdout",
     "output_type": "stream",
     "text": [
      "The memory_profiler extension is already loaded. To reload it, use:\n",
      "  %reload_ext memory_profiler\n",
      "('',)\n"
     ]
    }
   ],
   "source": [
    "%load_ext memory_profiler\n",
    "%mprun -f append_if_not_exists some_useless_slow_function()"
   ]
  },
  {
   "cell_type": "markdown",
   "metadata": {},
   "source": [
    "The line profiler doesn't currently work.\n",
    "We use the following work-around."
   ]
  },
  {
   "cell_type": "code",
   "execution_count": 70,
   "metadata": {
    "collapsed": false
   },
   "outputs": [
    {
     "name": "stdout",
     "output_type": "stream",
     "text": [
      "Timer unit: 1e-06 s\n",
      "\n",
      "Total time: 0.539637 s\n",
      "File: pythoncode.py\n",
      "Function: some_useless_slow_function at line 7\n",
      "\n",
      "Line #      Hits         Time  Per Hit   % Time  Line Contents\n",
      "==============================================================\n",
      "     7                                           def some_useless_slow_function():\n",
      "     8         1            2      2.0      0.0      arr = list()\n",
      "     9     10001         3871      0.4      0.7      for i in range(10000):\n",
      "    10     10000        19475      1.9      3.6          x = numpy.random.randint(0, 10000)\n",
      "    11     10000       516289     51.6     95.7          append_if_not_exists(arr, x)\n",
      "\n"
     ]
    }
   ],
   "source": [
    "import line_profiler\n",
    "lp = line_profiler.LineProfiler()\n",
    "lp.add_function(some_useless_slow_function)\n",
    "lp.runctx('some_useless_slow_function()', locals=locals(), globals=globals())\n",
    "lp.print_stats()"
   ]
  },
  {
   "cell_type": "markdown",
   "metadata": {},
   "source": [
    "## Speed\n",
    "\n",
    "Check how many cores there are in your machine"
   ]
  },
  {
   "cell_type": "code",
   "execution_count": 72,
   "metadata": {
    "collapsed": false
   },
   "outputs": [
    {
     "name": "stdout",
     "output_type": "stream",
     "text": [
      "8 xeon cores\n"
     ]
    }
   ],
   "source": [
    "import multiprocessing\n",
    "print multiprocessing.cpu_count(), 'xeon cores'\n"
   ]
  },
  {
   "cell_type": "markdown",
   "metadata": {},
   "source": [
    "## Widgets\n",
    "\n",
    "First, we have to install the package ipywidgets:\n",
    "    \n",
    "    conda install ipywidgets\n",
    "\n",
    "then, import it."
   ]
  },
  {
   "cell_type": "code",
   "execution_count": 4,
   "metadata": {
    "collapsed": true
   },
   "outputs": [],
   "source": [
    "from ipywidgets import widgets"
   ]
  },
  {
   "cell_type": "markdown",
   "metadata": {},
   "source": [
    "### Text widgets"
   ]
  },
  {
   "cell_type": "code",
   "execution_count": 5,
   "metadata": {
    "collapsed": false
   },
   "outputs": [],
   "source": [
    "from IPython.display import display\n",
    "text = widgets.Text()\n",
    "display(text)\n",
    "\n",
    "def handle_submit(sender):\n",
    "    print(text.value)\n",
    "    \n",
    "text.on_submit(handle_submit)"
   ]
  },
  {
   "cell_type": "markdown",
   "metadata": {},
   "source": [
    "### Buttons"
   ]
  },
  {
   "cell_type": "code",
   "execution_count": 6,
   "metadata": {
    "collapsed": false
   },
   "outputs": [
    {
     "name": "stdout",
     "output_type": "stream",
     "text": [
      "Yes, you clicked me !\n"
     ]
    }
   ],
   "source": [
    "button = widgets.Button(description=\"Click me !\")\n",
    "display(button)\n",
    "\n",
    "def on_button_clicked(b):\n",
    "    print (\"Yes, you clicked me !\")\n",
    "    \n",
    "button.on_click(on_button_clicked)"
   ]
  },
  {
   "cell_type": "markdown",
   "metadata": {},
   "source": [
    "## Progress bar\n",
    "\n",
    "Add a bar to show the progress of a loop"
   ]
  },
  {
   "cell_type": "code",
   "execution_count": 8,
   "metadata": {
    "collapsed": false
   },
   "outputs": [],
   "source": [
    "from IPython.display import display\n",
    "from ipywidgets import FloatProgress\n",
    "import numpy as np\n",
    "\n",
    "f = FloatProgress(min=0,max=1000)\n",
    "f.value=0\n",
    "display(f)\n",
    "\n",
    "for i in range(1000):\n",
    "    a = np.exp(np.arange(100.))\n",
    "    f.value += 1\n",
    "    \n"
   ]
  },
  {
   "cell_type": "markdown",
   "metadata": {},
   "source": [
    "### Interaction\n",
    "\n",
    "To produce a slider:"
   ]
  },
  {
   "cell_type": "code",
   "execution_count": 9,
   "metadata": {
    "collapsed": false
   },
   "outputs": [
    {
     "name": "stdout",
     "output_type": "stream",
     "text": [
      "20\n"
     ]
    }
   ],
   "source": [
    "from ipywidgets import interact\n",
    "def f(x):\n",
    "    print(x)\n",
    "interact(f,x=10)"
   ]
  },
  {
   "cell_type": "markdown",
   "metadata": {},
   "source": [
    "To create a checkbox:"
   ]
  },
  {
   "cell_type": "code",
   "execution_count": 15,
   "metadata": {
    "collapsed": false
   },
   "outputs": [
    {
     "name": "stdout",
     "output_type": "stream",
     "text": [
      "True\n"
     ]
    }
   ],
   "source": [
    "interact(f, x=True);"
   ]
  },
  {
   "cell_type": "markdown",
   "metadata": {},
   "source": [
    "To pass a string:"
   ]
  },
  {
   "cell_type": "code",
   "execution_count": 16,
   "metadata": {
    "collapsed": false
   },
   "outputs": [
    {
     "name": "stdout",
     "output_type": "stream",
     "text": [
      "Hi there!\n"
     ]
    }
   ],
   "source": [
    "interact(f, x='Hi there!');"
   ]
  },
  {
   "cell_type": "markdown",
   "metadata": {},
   "source": [
    "As a decorator of a function:"
   ]
  },
  {
   "cell_type": "code",
   "execution_count": 17,
   "metadata": {
    "collapsed": false
   },
   "outputs": [
    {
     "data": {
      "text/plain": [
       "(True, 1.0)"
      ]
     },
     "metadata": {},
     "output_type": "display_data"
    }
   ],
   "source": [
    "@interact(x=True, y=1.0)\n",
    "def g(x, y):\n",
    "    return (x, y)"
   ]
  },
  {
   "cell_type": "markdown",
   "metadata": {},
   "source": [
    "Finally, we can bind the input of one widget to the output of another one."
   ]
  },
  {
   "cell_type": "code",
   "execution_count": 10,
   "metadata": {
    "collapsed": false
   },
   "outputs": [],
   "source": [
    "outputText = widgets.Text()\n",
    "outputText"
   ]
  },
  {
   "cell_type": "code",
   "execution_count": 11,
   "metadata": {
    "collapsed": false
   },
   "outputs": [],
   "source": [
    "inputText = widgets.Text()\n",
    "\n",
    "def makeUpperCase(sender):\n",
    "    outputText.value = inputText.value.upper()\n",
    "    \n",
    "inputText.on_submit(makeUpperCase)\n",
    "inputText"
   ]
  },
  {
   "cell_type": "markdown",
   "metadata": {},
   "source": [
    "Interactive visualization:"
   ]
  },
  {
   "cell_type": "code",
   "execution_count": 12,
   "metadata": {
    "collapsed": false
   },
   "outputs": [
    {
     "data": {
      "image/png": "[encoded data removed]",
      "text/plain": [
       "<matplotlib.figure.Figure at 0x7f45a26b7350>"
      ]
     },
     "metadata": {},
     "output_type": "display_data"
    }
   ],
   "source": [
    "#from IPython.html.widgets import *\n",
    "import matplotlib.pyplot as plt\n",
    "%matplotlib inline\n",
    "import numpy as np\n",
    "t = np.arange(0.0,1.0,0.01)\n",
    "\n",
    "def pltsin(f):\n",
    "    plt.plot(t,np.sin(2*np.pi*t*f))\n",
    "    plt.show()\n",
    "    \n",
    "interact(pltsin, f=(1,10,0.1))"
   ]
  },
  {
   "cell_type": "code",
   "execution_count": null,
   "metadata": {
    "collapsed": true
   },
   "outputs": [],
   "source": []
  }
 ],
 "metadata": {
  "anaconda-cloud": {},
  "kernelspec": {
   "display_name": "Python [default]",
   "language": "python",
   "name": "python2"
  },
  "language_info": {
   "codemirror_mode": {
    "name": "ipython",
    "version": 2
   },
   "file_extension": ".py",
   "mimetype": "text/x-python",
   "name": "python",
   "nbconvert_exporter": "python",
   "pygments_lexer": "ipython2",
   "version": "2.7.12"
  }
 },
 "nbformat": 4,
 "nbformat_minor": 0
}
